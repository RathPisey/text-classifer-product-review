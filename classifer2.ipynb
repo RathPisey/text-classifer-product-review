{
 "cells": [
  {
   "cell_type": "code",
   "execution_count": 3,
   "metadata": {},
   "outputs": [
    {
     "name": "stderr",
     "output_type": "stream",
     "text": [
      "ERROR:root:Internal Python error in the inspect module.\n",
      "Below is the traceback from this internal error.\n",
      "\n",
      "\n",
      "KeyboardInterrupt\n",
      "\n"
     ]
    }
   ],
   "source": [
    "import re\n",
    "import numpy as np\n",
    "import pandas as pd\n",
    "from nltk.tokenize import word_tokenize\n",
    "from nltk.corpus import stopwords\n",
    "from sklearn.feature_extraction.text import TfidfVectorizer, CountVectorizer\n",
    "from sklearn.metrics import classification_report\n",
    "from sklearn.pipeline import Pipeline\n",
    "from sklearn.linear_model import LogisticRegression\n",
    "from sklearn.ensemble import RandomForestClassifier\n",
    "from sklearn.model_selection import GridSearchCV, train_test_split\n",
    "import pickle\n",
    "\n",
    "# load positive and negative reviews\n",
    "positive_reviews = open('positive-reviews.txt', 'r').read()\n",
    "negative_reviews = open('negative-reviews.txt', 'r').read()\n",
    "\n",
    "# create dataframe\n",
    "reviews = pd.DataFrame({'review': positive_reviews + negative_reviews, 'sentiment': ['positive']*len(positive_reviews.split('\\n')) + ['negative']*len(negative_reviews.split('\\n'))})\n",
    "reviews = reviews.dropna()\n",
    "\n",
    "# split data into training and testing sets\n",
    "X_train, X_test, y_train, y_test = train_test_split(reviews['review'], reviews['sentiment'], test_size=0.2, random_state=42)\n",
    "\n",
    "# define feature extraction\n",
    "ngram_tfidf = TfidfVectorizer(ngram_range=(1,2), stop_words='english')\n",
    "\n",
    "# define model\n",
    "lr = LogisticRegression()\n",
    "\n",
    "# create pipeline\n",
    "pipe = Pipeline([('ngram_tfidf', ngram_tfidf), ('lr', lr)])\n",
    "\n",
    "# define parameter grid\n",
    "param_grid = {'lr__C': [0.1, 1, 10], 'lr__penalty': ['l1', 'l2']}\n",
    "\n",
    "# create grid search\n",
    "grid = GridSearchCV(pipe, param_grid, cv=5)\n",
    "\n",
    "# fit grid search to data\n",
    "grid.fit(X_train, y_train)\n",
    "\n",
    "# print best parameters\n",
    "print(\"Best parameters: \", grid.best_params_)\n",
    "\n",
    "# predict on test data\n",
    "y_pred = grid.predict(X_test)\n",
    "\n",
    "# evaluate model\n",
    "print(\"Accuracy: \", grid.score(X_test, y_test))\n",
    "print(\"Classification report: \\n\", classification_report(y_test, y_pred))\n",
    "\n",
    "# save the model\n",
    "pickle.dump(grid, open('text_classification_model.pkl', 'wb'))\n",
    "\n",
    "# load the model\n",
    "loaded_model = pickle.load(open('text_classification_model.pkl', 'rb'))\n",
    "\n",
    "# test on unseen data\n",
    "review = \"I was not impressed, but I was not disappointed either.\"\n",
    "review_features = extract_features(review)\n",
    "\n",
    "# Use the model to predict the sentiment of the review\n",
    "prediction = loaded_model.predict([review_features])\n",
    "\n",
    "# Print the prediction\n",
    "print(prediction)\n"
   ]
  },
  {
   "cell_type": "code",
   "execution_count": null,
   "metadata": {},
   "outputs": [],
   "source": []
  },
  {
   "cell_type": "code",
   "execution_count": null,
   "metadata": {},
   "outputs": [],
   "source": []
  }
 ],
 "metadata": {
  "kernelspec": {
   "display_name": "Python 3",
   "language": "python",
   "name": "python3"
  },
  "language_info": {
   "codemirror_mode": {
    "name": "ipython",
    "version": 3
   },
   "file_extension": ".py",
   "mimetype": "text/x-python",
   "name": "python",
   "nbconvert_exporter": "python",
   "pygments_lexer": "ipython3",
   "version": "3.9.0"
  }
 },
 "nbformat": 4,
 "nbformat_minor": 4
}
