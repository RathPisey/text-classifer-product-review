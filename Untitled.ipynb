{
 "cells": [
  {
   "cell_type": "code",
   "execution_count": 67,
   "metadata": {},
   "outputs": [
    {
     "name": "stdout",
     "output_type": "stream",
     "text": [
      "8831\n",
      "Accuracy: 93.71%\n",
      "Accuracy: 0.9371048615652933\n",
      "Confusion Matrix:\n",
      " [[4380  227]\n",
      " [ 350 4217]]\n"
     ]
    },
    {
     "name": "stderr",
     "output_type": "stream",
     "text": [
      "c:\\python\\lib\\site-packages\\sklearn\\linear_model\\_logistic.py:763: ConvergenceWarning: lbfgs failed to converge (status=1):\n",
      "STOP: TOTAL NO. of ITERATIONS REACHED LIMIT.\n",
      "\n",
      "Increase the number of iterations (max_iter) or scale the data as shown in:\n",
      "    https://scikit-learn.org/stable/modules/preprocessing.html\n",
      "Please also refer to the documentation for alternative solver options:\n",
      "    https://scikit-learn.org/stable/modules/linear_model.html#logistic-regression\n",
      "  n_iter_i = _check_optimize_result(\n"
     ]
    }
   ],
   "source": [
    "import pandas as pd\n",
    "import re\n",
    "from sklearn.model_selection import train_test_split\n",
    "from sklearn.feature_extraction.text import CountVectorizer\n",
    "from sklearn.linear_model import LogisticRegression\n",
    "from sklearn.metrics import accuracy_score\n",
    "\n",
    "def preprocess_text(text):\n",
    "    # Lowercase\n",
    "    text = text.lower()\n",
    "    # Remove punctuation\n",
    "    text = re.sub(r\"[^a-zA-Z0-9]\", \" \", text)\n",
    "    # Remove extra whitespace\n",
    "    text = re.sub(r\"\\s+\", \" \", text)\n",
    "    return text\n",
    "\n",
    "# Read in the text files\n",
    "positive_reviews = open(\"positive-reviews.txt\").readlines()\n",
    "negative_reviews = open(\"negative-reviews.txt\").readlines()\n",
    "\n",
    "# Preprocess the text\n",
    "positive_reviews = [preprocess_text(review) for review in positive_reviews]\n",
    "negative_reviews = [preprocess_text(review) for review in negative_reviews]\n",
    "\n",
    "# Assign labels to the reviews\n",
    "positive_reviews = [(review, 1) for review in positive_reviews]\n",
    "negative_reviews = [(review, 0) for review in negative_reviews]\n",
    "\n",
    "# Combine the two lists into a single list of reviews\n",
    "reviews = positive_reviews + negative_reviews\n",
    "\n",
    "# Split the data into a training set and a test set\n",
    "reviews_df = pd.DataFrame(reviews, columns=[\"review\", \"label\"])\n",
    "train_df, test_df = train_test_split(reviews_df, test_size=0.2, random_state=42)\n",
    "\n",
    "# Vectorize the text using CountVectorizer\n",
    "vectorizer = CountVectorizer()\n",
    "X_train = vectorizer.fit_transform(train_df[\"review\"])\n",
    "print(X_train.shape[1])\n",
    "X_test = vectorizer.transform(test_df[\"review\"])\n",
    "y_train = train_df[\"label\"]\n",
    "y_test = test_df[\"label\"]\n",
    "\n",
    "# Train a logistic regression classifier\n",
    "clf = LogisticRegression()\n",
    "clf.fit(X_train, y_train)\n",
    "\n",
    "# Make predictions on the test set\n",
    "y_pred = clf.predict(X_test)\n",
    "\n",
    "# Evaluate the classifier's performance\n",
    "accuracy = accuracy_score(y_test, y_pred)\n",
    "print(\"Accuracy: {:.2f}%\".format(accuracy * 100))\n",
    "from sklearn.metrics import accuracy_score, confusion_matrix\n",
    "print(\"Accuracy:\", accuracy_score(y_test, y_pred))\n",
    "print(\"Confusion Matrix:\\n\", confusion_matrix(y_test, y_pred))"
   ]
  },
  {
   "cell_type": "code",
   "execution_count": 68,
   "metadata": {},
   "outputs": [
    {
     "name": "stdout",
     "output_type": "stream",
     "text": [
      "              precision    recall  f1-score   support\n",
      "\n",
      "           0       0.93      0.95      0.94      4607\n",
      "           1       0.95      0.92      0.94      4567\n",
      "\n",
      "    accuracy                           0.94      9174\n",
      "   macro avg       0.94      0.94      0.94      9174\n",
      "weighted avg       0.94      0.94      0.94      9174\n",
      "\n"
     ]
    }
   ],
   "source": [
    "from sklearn.metrics import classification_report\n",
    "print(classification_report(y_test, y_pred))\n"
   ]
  },
  {
   "cell_type": "code",
   "execution_count": 69,
   "metadata": {},
   "outputs": [],
   "source": [
    "import pickle\n",
    "\n",
    "with open('classifier2.pkl', 'wb') as f:\n",
    "    pickle.dump(clf, f)"
   ]
  },
  {
   "cell_type": "code",
   "execution_count": null,
   "metadata": {},
   "outputs": [],
   "source": []
  },
  {
   "cell_type": "code",
   "execution_count": 70,
   "metadata": {},
   "outputs": [],
   "source": [
    "clf_loaded = pickle.load(open(\"classifier2.pkl\", \"rb\"))"
   ]
  },
  {
   "cell_type": "code",
   "execution_count": null,
   "metadata": {},
   "outputs": [],
   "source": []
  },
  {
   "cell_type": "code",
   "execution_count": 81,
   "metadata": {},
   "outputs": [
    {
     "name": "stdout",
     "output_type": "stream",
     "text": [
      "The sentiment of the sentence is positive.\n"
     ]
    }
   ],
   "source": [
    "sentence = \"the product has no abnormal. It works great\"\n",
    "\n",
    "# Assume that `clf_loaded` is the loaded classifier\n",
    "# and `sentence` is the new sentence whose sentiment you want to predict\n",
    "\n",
    "# Preprocess the sentence\n",
    "sentence = preprocess_text(sentence)\n",
    "\n",
    "# Vectorize the sentence\n",
    "X_new = vectorizer.transform([sentence])\n",
    "\n",
    "# Make a prediction\n",
    "y_pred = clf_loaded.predict(X_new)\n",
    "\n",
    "# Print the prediction\n",
    "if y_pred[0] == 1:\n",
    "    print(\"The sentiment of the sentence is positive.\")\n",
    "else:\n",
    "    print(\"The sentiment of the sentence is negative.\")\n",
    "\n"
   ]
  },
  {
   "cell_type": "code",
   "execution_count": null,
   "metadata": {},
   "outputs": [],
   "source": []
  }
 ],
 "metadata": {
  "kernelspec": {
   "display_name": "Python 3",
   "language": "python",
   "name": "python3"
  },
  "language_info": {
   "codemirror_mode": {
    "name": "ipython",
    "version": 3
   },
   "file_extension": ".py",
   "mimetype": "text/x-python",
   "name": "python",
   "nbconvert_exporter": "python",
   "pygments_lexer": "ipython3",
   "version": "3.9.0"
  }
 },
 "nbformat": 4,
 "nbformat_minor": 4
}
